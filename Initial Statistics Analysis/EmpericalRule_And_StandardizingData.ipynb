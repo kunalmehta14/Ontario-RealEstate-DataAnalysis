{
 "cells": [
  {
   "cell_type": "markdown",
   "id": "c90e0093",
   "metadata": {},
   "source": [
    "### Connecting to the DataBase"
   ]
  },
  {
   "cell_type": "code",
   "execution_count": 62,
   "id": "504a9b1d",
   "metadata": {},
   "outputs": [],
   "source": [
    "import mysql.connector as sql\n",
    "import json, os\n",
    "from tabulate import tabulate\n",
    "from operator import itemgetter\n",
    "import numpy as np\n",
    "from dotenv import load_dotenv\n",
    "load_dotenv()\n",
    "\n",
    "conn = sql.connect(\n",
    "    host = os.getenv(\"MYSQL_HOST\"),\n",
    "    user = os.getenv(\"MYSQL_USER\"),\n",
    "    password = os.getenv(\"MYSQL_PASSWORD\"),\n",
    "    database = 'DataAnalysis',\n",
    "    port = '3306',\n",
    "    use_pure = True)\n",
    "\n",
    "cursor = conn.cursor(buffered=True , dictionary=True)"
   ]
  },
  {
   "cell_type": "markdown",
   "id": "f9b467a6",
   "metadata": {},
   "source": [
    "### Running Query"
   ]
  },
  {
   "cell_type": "code",
   "execution_count": 63,
   "id": "69b3b256",
   "metadata": {},
   "outputs": [],
   "source": [
    "city = 'Sarnia'\n",
    "query = ''' SELECT ZillowListings.Id, ZillowListings.Address, ZillowListings.CityName,\n",
    "ZillowListings.ListingType, AVG(ZillowListingsAssociations.Price) AS Price\n",
    "FROM ZillowListingsAssociations INNER JOIN ZillowListings ON \n",
    "ZillowListingsAssociations.Id = ZillowListings.Id\n",
    "WHERE CityName = %(city)s AND Price > 1000\n",
    "GROUP BY ZillowListings.Id'''\n",
    "query_values = {'city': city}\n",
    "cursor.execute(query, query_values)\n",
    "result_set = cursor.fetchall()"
   ]
  },
  {
   "cell_type": "markdown",
   "id": "5a76abd9",
   "metadata": {},
   "source": [
    "### Visualizing Results"
   ]
  },
  {
   "cell_type": "code",
   "execution_count": 64,
   "id": "7b625c32",
   "metadata": {},
   "outputs": [
    {
     "name": "stdout",
     "output_type": "stream",
     "text": [
      "        Id  Address                                          City    Type                      Price\n",
      "----------  -----------------------------------------------  ------  -------------  ----------------\n",
      "2056139970  1852 Lakeshore Rd, Sarnia, ON N7X 1C5            Sarnia  SINGLE_FAMILY       1.5999e+06\n",
      "2055439549  613 Sweetbay Cres, Sarnia, ON N7S 0A8            Sarnia  SINGLE_FAMILY       1.2999e+06\n",
      "2054926965  1757 Murphy Rd, Sarnia, ON N7S 2Z7               Sarnia  SINGLE_FAMILY       1.13562e+06\n",
      "2054602574  601 Sweetbay Cres, Sarnia, ON N7S 0A8            Sarnia  SINGLE_FAMILY       1.13088e+06\n",
      "2056301614  1607 Lakeshore Rd, Sarnia, ON N7X 1B5            Sarnia  SINGLE_FAMILY       1.1e+06\n",
      "2059090741  268 Stathis Blvd, Sarnia, ON N7S 5T5             Sarnia  SINGLE_FAMILY       1e+06\n",
      "2059092332  272 Stathis Blvd, Sarnia, ON N7S 5T5             Sarnia  SINGLE_FAMILY       1e+06\n",
      "2054900882  500 Cherry Blossom Ct, Sarnia, ON N7S 0B2        Sarnia  SINGLE_FAMILY  970208\n",
      "2054541591  394 Sawgrass Pl, Sarnia, ON N7W 0B2              Sarnia  SINGLE_FAMILY  949900\n",
      "2059090739  316 Stathis Blvd, Sarnia, ON N7S 5T5             Sarnia  SINGLE_FAMILY  849900\n",
      "2059090740  276 Stathis Blvd, Sarnia, ON N7S 5T5             Sarnia  SINGLE_FAMILY  849900\n",
      "2059090742  260 Stathis Blvd, Sarnia, ON N7S 5T5             Sarnia  SINGLE_FAMILY  849900\n",
      "2055292855  1683 Trinity Cres, Sarnia, ON N7S 5P8            Sarnia  SINGLE_FAMILY  839900\n",
      "2055107216  420 Hadfield Cres, Sarnia, ON N7S 0A6            Sarnia  SINGLE_FAMILY  823545\n",
      "2054861803  1077 Lakeshore Rd, Sarnia, ON N7V 2V5            Sarnia  SINGLE_FAMILY  814450\n",
      "2054268036  1958 Franklin Ave, Sarnia, ON N0N 1C0            Sarnia  SINGLE_FAMILY  799900\n",
      "2058128391  1010 McCaw St E, Sarnia, ON N7V 2X9              Sarnia  SINGLE_FAMILY  799900\n",
      "2059090743  308 Stathis Blvd, Sarnia, ON N7S 5T5             Sarnia  SINGLE_FAMILY  799900\n",
      "2054620161  1953 Lakeshore Rd, Sarnia, ON N7T 7H6            Sarnia  SINGLE_FAMILY  766567\n",
      "2057530060  333 Graham Coughtry Ct, Sarnia, ON N7W 0A8       Sarnia  SINGLE_FAMILY  749900\n",
      "2056170906  553 Franco Ave, Sarnia, ON N7S 0C6               Sarnia  SINGLE_FAMILY  733233\n",
      "2054601391  348 Graham Coughtry Ct, Sarnia, ON N7W 0A8       Sarnia  SINGLE_FAMILY  728270\n",
      "2055065030  226 Wanner Ave, Sarnia, ON N7S 6M1               Sarnia  SINGLE_FAMILY  699900\n",
      "2067533441  2016 James St E, Sarnia, ON N0N 1C0              Sarnia  SINGLE_FAMILY  699900\n",
      "2055954616  1993 Yonge St, Sarnia, ON N0N 1C0                Sarnia  SINGLE_FAMILY  698900\n",
      "2054595710  2646 Hamilton Rd, Sarnia, ON N0N 1C0             Sarnia  SINGLE_FAMILY  694900\n",
      "2054691411  888 Lakeshore Rd, Sarnia, ON N7V 2V2             Sarnia  SINGLE_FAMILY  689900\n",
      "2055126805  1269 Errol Rd E, Sarnia, ON N7S 5E5              Sarnia  SINGLE_FAMILY  682400\n",
      "2054493024  1597 Murphy Rd, Sarnia, ON N7S 2Z4               Sarnia  SINGLE_FAMILY  676598\n",
      "2055699200  301 Newton Ct, Sarnia, ON N7S 3Y8                Sarnia  SINGLE_FAMILY  675355\n",
      "2054237228  851 Maxwell St, Sarnia, ON N7T 5G3               Sarnia  MULTI_FAMILY   650000\n",
      "2055767825  120 Sandpiper Dr, Sarnia, ON N7S 0B6             Sarnia  SINGLE_FAMILY  637400\n",
      "2054879461  683 Charlesworth Dr, Sarnia, ON N7V 2R8          Sarnia  SINGLE_FAMILY  631900\n",
      "2060946760  1161 Marcin Rd, Sarnia, ON N7V 3J7               Sarnia  SINGLE_FAMILY  612500\n",
      "2055261949  204 Vidal St S, Sarnia, ON N7T 2T5               Sarnia  SINGLE_FAMILY  599900\n",
      "2057364149  395 Cromwell St, Sarnia, ON N7T 3Y7              Sarnia  SINGLE_FAMILY  584999\n",
      "2057971926  1251 Kim St, Sarnia, ON N7V 3T4                  Sarnia  SINGLE_FAMILY  577300\n",
      "2054448979  1467 Miller Dr, Sarnia, ON N7S 3M5               Sarnia  SINGLE_FAMILY  567400\n",
      "2056837957  855 Exmouth St, Sarnia, ON N7T 5R3               Sarnia  SINGLE_FAMILY  549900\n",
      "2054746029  1275 Wiltshire Dr, Sarnia, ON N7S 4M2            Sarnia  SINGLE_FAMILY  542400\n",
      "2055594480  1200 Arlington Ave, Sarnia, ON N7S 3T8           Sarnia  SINGLE_FAMILY  539900\n",
      "2062650455  1211 Blu Aire Gate, Sarnia, ON N7S 5C2           Sarnia  SINGLE_FAMILY  539900\n",
      "2054441935  661 Orchard Ave, Sarnia, ON N7V 2X3              Sarnia  SINGLE_FAMILY  537400\n",
      "2054661632  1002 Eastlawn Ave, Sarnia, ON N7S 1X4            Sarnia  SINGLE_FAMILY  499900\n",
      "2054373796  523 Hollywood Pl, Sarnia, ON N7V 2J1             Sarnia  SINGLE_FAMILY  479900\n",
      "2066414603  201 Borden St, Sarnia, ON N7S 1E7                Sarnia  SINGLE_FAMILY  474900\n",
      "2054558674  275 Maria St, Sarnia, ON N7T 4T4                 Sarnia  SINGLE_FAMILY  472627\n",
      "2054402984  893 Norway Ave, Sarnia, ON N7V 2L9               Sarnia  SINGLE_FAMILY  449900\n",
      "2064688331  452 Davis St, Sarnia, ON N7T 1C3                 Sarnia  SINGLE_FAMILY  449355\n",
      "2055494072  202 Kathleen Ave, Sarnia, ON N7T 1E2             Sarnia  SINGLE_FAMILY  439888\n",
      "2056026740  534 Devine St, Sarnia, ON N7T 1W4                Sarnia  SINGLE_FAMILY  429900\n",
      "2056267930  820 Retlaw Dr, Sarnia, ON N7V 2W7                Sarnia  SINGLE_FAMILY  424900\n",
      "2054255701  213 Felix St, Sarnia, ON N7T 5L4                 Sarnia  SINGLE_FAMILY  419900\n",
      "2054454068  384 Savoy St, Sarnia, ON N7T 3H9                 Sarnia  SINGLE_FAMILY  419900\n",
      "2055208982  711 Murphy Rd, Sarnia, ON N7S 2X7                Sarnia  SINGLE_FAMILY  417078\n",
      "2066849273  276 Cameron St, Sarnia, ON N7T 4B3               Sarnia  SINGLE_FAMILY  399000\n",
      "2054920443  5700 Blackwell Side Rd #163, Sarnia, ON N7W 1B7  Sarnia  SINGLE_FAMILY  385000\n",
      "2056446111  2706 John St, Sarnia, ON N0N 1C0                 Sarnia  SINGLE_FAMILY  379000\n",
      "2054920448  273 Proctor St, Sarnia, ON N7T 3G9               Sarnia  SINGLE_FAMILY  373233\n",
      "2055499431  185 Bedford Cres, Sarnia, ON N7S 4B4             Sarnia  TOWNHOUSE      369900\n",
      "2054559584  306 Siddal St, Sarnia, ON N7T 3T4                Sarnia  SINGLE_FAMILY  358000\n",
      "2055032922  144 Mackenzie St S, Sarnia, ON N7T 3J3           Sarnia  SINGLE_FAMILY  349900\n",
      "2054503270  301 Edgewood St #8, Sarnia, ON N7S 4X7           Sarnia  CONDO          339000\n",
      "2054624438  215 Elgin St, Sarnia, ON N7T 5B3                 Sarnia  SINGLE_FAMILY  314000\n",
      "2054947065  217 Emma St, Sarnia, ON N7T 2Z8                  Sarnia  MULTI_FAMILY   289900\n",
      "2054950953  312 Confederation St, Sarnia, ON N7T 2A5         Sarnia  MULTI_FAMILY   289900\n",
      "2054595712  229 Queen St, Sarnia, ON N7T 2R7                 Sarnia  SINGLE_FAMILY  289000\n",
      "2066365101  846 Ross Ave #2, Sarnia, ON N7T 7P5              Sarnia  TOWNHOUSE      275000\n",
      "2056489865  227 Vidal St S, Sarnia, ON N7T 2T8               Sarnia  MULTI_FAMILY   269999\n",
      "2055248624  149 Euphemia St N, Sarnia, ON N7T 6A4            Sarnia  MULTI_FAMILY   249000\n",
      "2054758541  634 Cherry Dr, Sarnia, ON N7T 4H9                Sarnia  SINGLE_FAMILY  229999\n",
      "2058016643  333 Confederation St, Sarnia, ON N7T 2A4         Sarnia  SINGLE_FAMILY  204157\n",
      "2060729368  5700 Blackwell Side Rd #251, Sarnia, ON N7W 1B7  Sarnia  MANUFACTURED   158000\n",
      "2060746629  178 Front St N, Sarnia, ON N7T 5S3               Sarnia  APARTMENT        1625\n"
     ]
    }
   ],
   "source": [
    "header = ['Id', 'Address', 'City', 'Type', 'Price', 'Status']\n",
    "#Sort the Values by Price\n",
    "dict_getter = itemgetter(\"Price\")\n",
    "result_set.sort(key=dict_getter, reverse=True)\n",
    "#Creating the table form to visualize the data\n",
    "values = []\n",
    "price_list = []\n",
    "for result in result_set:\n",
    "    values.append(list(result.values()))\n",
    "    price_list.append(result.get('Price'))\n",
    "print(tabulate(values, headers=header))"
   ]
  },
  {
   "cell_type": "markdown",
   "id": "22efda50",
   "metadata": {},
   "source": [
    "### Finding Mean"
   ]
  },
  {
   "cell_type": "code",
   "execution_count": 65,
   "id": "2144c822",
   "metadata": {},
   "outputs": [
    {
     "name": "stdout",
     "output_type": "stream",
     "text": [
      "Mean Price of 74 Zillow Listings: 602462\n"
     ]
    }
   ],
   "source": [
    "mean_price = round(np.mean(price_list))\n",
    "print(f'Mean Price of {len(price_list)} Zillow Listings: {mean_price}')"
   ]
  },
  {
   "cell_type": "markdown",
   "id": "6a0f0ca8",
   "metadata": {},
   "source": [
    "### Finding Standard Deviation"
   ]
  },
  {
   "cell_type": "code",
   "execution_count": 66,
   "id": "a6ff2550",
   "metadata": {},
   "outputs": [
    {
     "name": "stdout",
     "output_type": "stream",
     "text": [
      "Standard Deviation of 74 Zillow Listings: 279753\n"
     ]
    }
   ],
   "source": [
    "standard_deviation = round(np.std(price_list))\n",
    "print(f'Standard Deviation of {len(price_list)} Zillow Listings: {standard_deviation}')"
   ]
  },
  {
   "cell_type": "markdown",
   "id": "72373c8e",
   "metadata": {},
   "source": [
    "### The Emprical Rule"
   ]
  },
  {
   "cell_type": "markdown",
   "id": "6b67241e",
   "metadata": {},
   "source": [
    "> According to the Emprical Rule: \n",
    "> + About 2/3 or 68% of the data fall within one standard deviation of the mean.\n",
    "> + About 95% of the data fall within two standard deviation of the mean.\n",
    "> + About 99.7% of the data fall within three standard deviation of the mean."
   ]
  },
  {
   "cell_type": "markdown",
   "id": "edd14d43",
   "metadata": {},
   "source": [
    "### Finding variance using single standard deviation of the provided data "
   ]
  },
  {
   "cell_type": "code",
   "execution_count": 67,
   "id": "a54ec017",
   "metadata": {},
   "outputs": [
    {
     "name": "stdout",
     "output_type": "stream",
     "text": [
      "Low Two SD Range: 322709\n",
      "High Two SD Range: 882215\n"
     ]
    }
   ],
   "source": [
    "sd_minus_one = (mean_price - standard_deviation)\n",
    "sd_plus_one = (mean_price + standard_deviation)\n",
    "print(f'Low Two SD Range: {sd_minus_one}')\n",
    "print(f'High Two SD Range: {sd_plus_one}')"
   ]
  },
  {
   "cell_type": "markdown",
   "id": "85a05d36",
   "metadata": {},
   "source": [
    "### Finding data that lies within single standard deviation"
   ]
  },
  {
   "cell_type": "code",
   "execution_count": 68,
   "id": "5299f225",
   "metadata": {},
   "outputs": [
    {
     "name": "stdout",
     "output_type": "stream",
     "text": [
      "        Id  Address                                          City    Type             Price\n",
      "----------  -----------------------------------------------  ------  -------------  -------\n",
      "2054503270  301 Edgewood St #8, Sarnia, ON N7S 4X7           Sarnia  CONDO           339000\n",
      "2055032922  144 Mackenzie St S, Sarnia, ON N7T 3J3           Sarnia  SINGLE_FAMILY   349900\n",
      "2054559584  306 Siddal St, Sarnia, ON N7T 3T4                Sarnia  SINGLE_FAMILY   358000\n",
      "2055499431  185 Bedford Cres, Sarnia, ON N7S 4B4             Sarnia  TOWNHOUSE       369900\n",
      "2054920448  273 Proctor St, Sarnia, ON N7T 3G9               Sarnia  SINGLE_FAMILY   373233\n",
      "2056446111  2706 John St, Sarnia, ON N0N 1C0                 Sarnia  SINGLE_FAMILY   379000\n",
      "2054920443  5700 Blackwell Side Rd #163, Sarnia, ON N7W 1B7  Sarnia  SINGLE_FAMILY   385000\n",
      "2066849273  276 Cameron St, Sarnia, ON N7T 4B3               Sarnia  SINGLE_FAMILY   399000\n",
      "2055208982  711 Murphy Rd, Sarnia, ON N7S 2X7                Sarnia  SINGLE_FAMILY   417078\n",
      "2054255701  213 Felix St, Sarnia, ON N7T 5L4                 Sarnia  SINGLE_FAMILY   419900\n",
      "2054454068  384 Savoy St, Sarnia, ON N7T 3H9                 Sarnia  SINGLE_FAMILY   419900\n",
      "2056267930  820 Retlaw Dr, Sarnia, ON N7V 2W7                Sarnia  SINGLE_FAMILY   424900\n",
      "2056026740  534 Devine St, Sarnia, ON N7T 1W4                Sarnia  SINGLE_FAMILY   429900\n",
      "2055494072  202 Kathleen Ave, Sarnia, ON N7T 1E2             Sarnia  SINGLE_FAMILY   439888\n",
      "2064688331  452 Davis St, Sarnia, ON N7T 1C3                 Sarnia  SINGLE_FAMILY   449355\n",
      "2054402984  893 Norway Ave, Sarnia, ON N7V 2L9               Sarnia  SINGLE_FAMILY   449900\n",
      "2054558674  275 Maria St, Sarnia, ON N7T 4T4                 Sarnia  SINGLE_FAMILY   472627\n",
      "2066414603  201 Borden St, Sarnia, ON N7S 1E7                Sarnia  SINGLE_FAMILY   474900\n",
      "2054373796  523 Hollywood Pl, Sarnia, ON N7V 2J1             Sarnia  SINGLE_FAMILY   479900\n",
      "2054661632  1002 Eastlawn Ave, Sarnia, ON N7S 1X4            Sarnia  SINGLE_FAMILY   499900\n",
      "2054441935  661 Orchard Ave, Sarnia, ON N7V 2X3              Sarnia  SINGLE_FAMILY   537400\n",
      "2055594480  1200 Arlington Ave, Sarnia, ON N7S 3T8           Sarnia  SINGLE_FAMILY   539900\n",
      "2062650455  1211 Blu Aire Gate, Sarnia, ON N7S 5C2           Sarnia  SINGLE_FAMILY   539900\n",
      "2054746029  1275 Wiltshire Dr, Sarnia, ON N7S 4M2            Sarnia  SINGLE_FAMILY   542400\n",
      "2056837957  855 Exmouth St, Sarnia, ON N7T 5R3               Sarnia  SINGLE_FAMILY   549900\n",
      "2054448979  1467 Miller Dr, Sarnia, ON N7S 3M5               Sarnia  SINGLE_FAMILY   567400\n",
      "2057971926  1251 Kim St, Sarnia, ON N7V 3T4                  Sarnia  SINGLE_FAMILY   577300\n",
      "2057364149  395 Cromwell St, Sarnia, ON N7T 3Y7              Sarnia  SINGLE_FAMILY   584999\n",
      "2055261949  204 Vidal St S, Sarnia, ON N7T 2T5               Sarnia  SINGLE_FAMILY   599900\n",
      "2060946760  1161 Marcin Rd, Sarnia, ON N7V 3J7               Sarnia  SINGLE_FAMILY   612500\n",
      "2054879461  683 Charlesworth Dr, Sarnia, ON N7V 2R8          Sarnia  SINGLE_FAMILY   631900\n",
      "2055767825  120 Sandpiper Dr, Sarnia, ON N7S 0B6             Sarnia  SINGLE_FAMILY   637400\n",
      "2054237228  851 Maxwell St, Sarnia, ON N7T 5G3               Sarnia  MULTI_FAMILY    650000\n",
      "2055699200  301 Newton Ct, Sarnia, ON N7S 3Y8                Sarnia  SINGLE_FAMILY   675355\n",
      "2054493024  1597 Murphy Rd, Sarnia, ON N7S 2Z4               Sarnia  SINGLE_FAMILY   676598\n",
      "2055126805  1269 Errol Rd E, Sarnia, ON N7S 5E5              Sarnia  SINGLE_FAMILY   682400\n",
      "2054691411  888 Lakeshore Rd, Sarnia, ON N7V 2V2             Sarnia  SINGLE_FAMILY   689900\n",
      "2054595710  2646 Hamilton Rd, Sarnia, ON N0N 1C0             Sarnia  SINGLE_FAMILY   694900\n",
      "2055954616  1993 Yonge St, Sarnia, ON N0N 1C0                Sarnia  SINGLE_FAMILY   698900\n",
      "2055065030  226 Wanner Ave, Sarnia, ON N7S 6M1               Sarnia  SINGLE_FAMILY   699900\n",
      "2067533441  2016 James St E, Sarnia, ON N0N 1C0              Sarnia  SINGLE_FAMILY   699900\n",
      "2054601391  348 Graham Coughtry Ct, Sarnia, ON N7W 0A8       Sarnia  SINGLE_FAMILY   728270\n",
      "2056170906  553 Franco Ave, Sarnia, ON N7S 0C6               Sarnia  SINGLE_FAMILY   733233\n",
      "2057530060  333 Graham Coughtry Ct, Sarnia, ON N7W 0A8       Sarnia  SINGLE_FAMILY   749900\n",
      "2054620161  1953 Lakeshore Rd, Sarnia, ON N7T 7H6            Sarnia  SINGLE_FAMILY   766567\n",
      "2054268036  1958 Franklin Ave, Sarnia, ON N0N 1C0            Sarnia  SINGLE_FAMILY   799900\n",
      "2058128391  1010 McCaw St E, Sarnia, ON N7V 2X9              Sarnia  SINGLE_FAMILY   799900\n",
      "2059090743  308 Stathis Blvd, Sarnia, ON N7S 5T5             Sarnia  SINGLE_FAMILY   799900\n",
      "2054861803  1077 Lakeshore Rd, Sarnia, ON N7V 2V5            Sarnia  SINGLE_FAMILY   814450\n",
      "2055107216  420 Hadfield Cres, Sarnia, ON N7S 0A6            Sarnia  SINGLE_FAMILY   823545\n",
      "2055292855  1683 Trinity Cres, Sarnia, ON N7S 5P8            Sarnia  SINGLE_FAMILY   839900\n",
      "2059090739  316 Stathis Blvd, Sarnia, ON N7S 5T5             Sarnia  SINGLE_FAMILY   849900\n",
      "2059090740  276 Stathis Blvd, Sarnia, ON N7S 5T5             Sarnia  SINGLE_FAMILY   849900\n",
      "2059090742  260 Stathis Blvd, Sarnia, ON N7S 5T5             Sarnia  SINGLE_FAMILY   849900\n"
     ]
    }
   ],
   "source": [
    "query = ''' SELECT ZillowListings.Id, ZillowListings.Address, ZillowListings.CityName,\n",
    "ZillowListings.ListingType, AVG(ZillowListingsAssociations.Price) AS Price\n",
    "FROM ZillowListingsAssociations INNER JOIN ZillowListings ON \n",
    "ZillowListingsAssociations.Id = ZillowListings.Id\n",
    "WHERE CityName = %s AND Price > %s AND Price < %s\n",
    "GROUP BY ZillowListings.Id'''\n",
    "query_values = (city, sd_minus_one, sd_plus_one)\n",
    "cursor.execute(query, query_values)\n",
    "sd_one_result_set = cursor.fetchall()\n",
    "\n",
    "header = ['Id', 'Address', 'City', 'Type', 'Price', 'Status']\n",
    "#Sort the Values by Price\n",
    "dict_getter = itemgetter(\"Price\")\n",
    "sd_one_result_set.sort(key=dict_getter)\n",
    "#Creating the table form to visualize the data\n",
    "sd_one_values = []\n",
    "sd_one_price_list = []\n",
    "for result in sd_one_result_set:\n",
    "    sd_one_values.append(list(result.values()))\n",
    "    sd_one_price_list.append(result.get('Price'))\n",
    "print(tabulate(sd_one_values, headers=header))"
   ]
  },
  {
   "cell_type": "code",
   "execution_count": 69,
   "id": "d8a3efa6",
   "metadata": {},
   "outputs": [
    {
     "name": "stdout",
     "output_type": "stream",
     "text": [
      "Amount of data found in single standard deviation of the mean: 72.97297297297297%\n"
     ]
    }
   ],
   "source": [
    "sd_one_variance = len(sd_one_price_list)/len(price_list)\n",
    "print(f'Amount of data found in single standard deviation of the mean: {sd_one_variance*100}%')"
   ]
  },
  {
   "cell_type": "markdown",
   "id": "3ac99393",
   "metadata": {},
   "source": [
    "### Finding data that lies within two standard deviations"
   ]
  },
  {
   "cell_type": "code",
   "execution_count": 70,
   "id": "c389e948",
   "metadata": {},
   "outputs": [
    {
     "name": "stdout",
     "output_type": "stream",
     "text": [
      "Low Two SD Range: 42956\n",
      "High Two SD Range: 1161968\n"
     ]
    }
   ],
   "source": [
    "sd_minus_two = (mean_price - (2 * standard_deviation))\n",
    "sd_plus_two = (mean_price + (2 * standard_deviation))\n",
    "print(f'Low Two SD Range: {sd_minus_two}')\n",
    "print(f'High Two SD Range: {sd_plus_two}')"
   ]
  },
  {
   "cell_type": "markdown",
   "id": "2d2a6a42",
   "metadata": {},
   "source": [
    "### Finding data that lies within two standard deviations"
   ]
  },
  {
   "cell_type": "code",
   "execution_count": 71,
   "id": "f09a1877",
   "metadata": {},
   "outputs": [
    {
     "name": "stdout",
     "output_type": "stream",
     "text": [
      "        Id  Address                                          City    Type                      Price\n",
      "----------  -----------------------------------------------  ------  -------------  ----------------\n",
      "2054926965  1757 Murphy Rd, Sarnia, ON N7S 2Z7               Sarnia  SINGLE_FAMILY       1.13562e+06\n",
      "2056301614  1607 Lakeshore Rd, Sarnia, ON N7X 1B5            Sarnia  SINGLE_FAMILY       1.1e+06\n",
      "2059090741  268 Stathis Blvd, Sarnia, ON N7S 5T5             Sarnia  SINGLE_FAMILY       1e+06\n",
      "2059092332  272 Stathis Blvd, Sarnia, ON N7S 5T5             Sarnia  SINGLE_FAMILY       1e+06\n",
      "2054602574  601 Sweetbay Cres, Sarnia, ON N7S 0A8            Sarnia  SINGLE_FAMILY  999900\n",
      "2054900882  500 Cherry Blossom Ct, Sarnia, ON N7S 0B2        Sarnia  SINGLE_FAMILY  970208\n",
      "2054541591  394 Sawgrass Pl, Sarnia, ON N7W 0B2              Sarnia  SINGLE_FAMILY  949900\n",
      "2059090739  316 Stathis Blvd, Sarnia, ON N7S 5T5             Sarnia  SINGLE_FAMILY  849900\n",
      "2059090740  276 Stathis Blvd, Sarnia, ON N7S 5T5             Sarnia  SINGLE_FAMILY  849900\n",
      "2059090742  260 Stathis Blvd, Sarnia, ON N7S 5T5             Sarnia  SINGLE_FAMILY  849900\n",
      "2055292855  1683 Trinity Cres, Sarnia, ON N7S 5P8            Sarnia  SINGLE_FAMILY  839900\n",
      "2055107216  420 Hadfield Cres, Sarnia, ON N7S 0A6            Sarnia  SINGLE_FAMILY  823545\n",
      "2054861803  1077 Lakeshore Rd, Sarnia, ON N7V 2V5            Sarnia  SINGLE_FAMILY  814450\n",
      "2054268036  1958 Franklin Ave, Sarnia, ON N0N 1C0            Sarnia  SINGLE_FAMILY  799900\n",
      "2058128391  1010 McCaw St E, Sarnia, ON N7V 2X9              Sarnia  SINGLE_FAMILY  799900\n",
      "2059090743  308 Stathis Blvd, Sarnia, ON N7S 5T5             Sarnia  SINGLE_FAMILY  799900\n",
      "2054620161  1953 Lakeshore Rd, Sarnia, ON N7T 7H6            Sarnia  SINGLE_FAMILY  766567\n",
      "2057530060  333 Graham Coughtry Ct, Sarnia, ON N7W 0A8       Sarnia  SINGLE_FAMILY  749900\n",
      "2056170906  553 Franco Ave, Sarnia, ON N7S 0C6               Sarnia  SINGLE_FAMILY  733233\n",
      "2054601391  348 Graham Coughtry Ct, Sarnia, ON N7W 0A8       Sarnia  SINGLE_FAMILY  728270\n",
      "2055065030  226 Wanner Ave, Sarnia, ON N7S 6M1               Sarnia  SINGLE_FAMILY  699900\n",
      "2067533441  2016 James St E, Sarnia, ON N0N 1C0              Sarnia  SINGLE_FAMILY  699900\n",
      "2055954616  1993 Yonge St, Sarnia, ON N0N 1C0                Sarnia  SINGLE_FAMILY  698900\n",
      "2054595710  2646 Hamilton Rd, Sarnia, ON N0N 1C0             Sarnia  SINGLE_FAMILY  694900\n",
      "2054691411  888 Lakeshore Rd, Sarnia, ON N7V 2V2             Sarnia  SINGLE_FAMILY  689900\n",
      "2055126805  1269 Errol Rd E, Sarnia, ON N7S 5E5              Sarnia  SINGLE_FAMILY  682400\n",
      "2054493024  1597 Murphy Rd, Sarnia, ON N7S 2Z4               Sarnia  SINGLE_FAMILY  676598\n",
      "2055699200  301 Newton Ct, Sarnia, ON N7S 3Y8                Sarnia  SINGLE_FAMILY  675355\n",
      "2054237228  851 Maxwell St, Sarnia, ON N7T 5G3               Sarnia  MULTI_FAMILY   650000\n",
      "2055767825  120 Sandpiper Dr, Sarnia, ON N7S 0B6             Sarnia  SINGLE_FAMILY  637400\n",
      "2054879461  683 Charlesworth Dr, Sarnia, ON N7V 2R8          Sarnia  SINGLE_FAMILY  631900\n",
      "2060946760  1161 Marcin Rd, Sarnia, ON N7V 3J7               Sarnia  SINGLE_FAMILY  612500\n",
      "2055261949  204 Vidal St S, Sarnia, ON N7T 2T5               Sarnia  SINGLE_FAMILY  599900\n",
      "2057364149  395 Cromwell St, Sarnia, ON N7T 3Y7              Sarnia  SINGLE_FAMILY  584999\n",
      "2057971926  1251 Kim St, Sarnia, ON N7V 3T4                  Sarnia  SINGLE_FAMILY  577300\n",
      "2054448979  1467 Miller Dr, Sarnia, ON N7S 3M5               Sarnia  SINGLE_FAMILY  567400\n",
      "2056837957  855 Exmouth St, Sarnia, ON N7T 5R3               Sarnia  SINGLE_FAMILY  549900\n",
      "2054746029  1275 Wiltshire Dr, Sarnia, ON N7S 4M2            Sarnia  SINGLE_FAMILY  542400\n",
      "2055594480  1200 Arlington Ave, Sarnia, ON N7S 3T8           Sarnia  SINGLE_FAMILY  539900\n",
      "2062650455  1211 Blu Aire Gate, Sarnia, ON N7S 5C2           Sarnia  SINGLE_FAMILY  539900\n",
      "2054441935  661 Orchard Ave, Sarnia, ON N7V 2X3              Sarnia  SINGLE_FAMILY  537400\n",
      "2054661632  1002 Eastlawn Ave, Sarnia, ON N7S 1X4            Sarnia  SINGLE_FAMILY  499900\n",
      "2054373796  523 Hollywood Pl, Sarnia, ON N7V 2J1             Sarnia  SINGLE_FAMILY  479900\n",
      "2066414603  201 Borden St, Sarnia, ON N7S 1E7                Sarnia  SINGLE_FAMILY  474900\n",
      "2054558674  275 Maria St, Sarnia, ON N7T 4T4                 Sarnia  SINGLE_FAMILY  472627\n",
      "2054402984  893 Norway Ave, Sarnia, ON N7V 2L9               Sarnia  SINGLE_FAMILY  449900\n",
      "2064688331  452 Davis St, Sarnia, ON N7T 1C3                 Sarnia  SINGLE_FAMILY  449355\n",
      "2055494072  202 Kathleen Ave, Sarnia, ON N7T 1E2             Sarnia  SINGLE_FAMILY  439888\n",
      "2056026740  534 Devine St, Sarnia, ON N7T 1W4                Sarnia  SINGLE_FAMILY  429900\n",
      "2056267930  820 Retlaw Dr, Sarnia, ON N7V 2W7                Sarnia  SINGLE_FAMILY  424900\n",
      "2054255701  213 Felix St, Sarnia, ON N7T 5L4                 Sarnia  SINGLE_FAMILY  419900\n",
      "2054454068  384 Savoy St, Sarnia, ON N7T 3H9                 Sarnia  SINGLE_FAMILY  419900\n",
      "2055208982  711 Murphy Rd, Sarnia, ON N7S 2X7                Sarnia  SINGLE_FAMILY  417078\n",
      "2066849273  276 Cameron St, Sarnia, ON N7T 4B3               Sarnia  SINGLE_FAMILY  399000\n",
      "2054920443  5700 Blackwell Side Rd #163, Sarnia, ON N7W 1B7  Sarnia  SINGLE_FAMILY  385000\n",
      "2056446111  2706 John St, Sarnia, ON N0N 1C0                 Sarnia  SINGLE_FAMILY  379000\n",
      "2054920448  273 Proctor St, Sarnia, ON N7T 3G9               Sarnia  SINGLE_FAMILY  373233\n",
      "2055499431  185 Bedford Cres, Sarnia, ON N7S 4B4             Sarnia  TOWNHOUSE      369900\n",
      "2054559584  306 Siddal St, Sarnia, ON N7T 3T4                Sarnia  SINGLE_FAMILY  358000\n",
      "2055032922  144 Mackenzie St S, Sarnia, ON N7T 3J3           Sarnia  SINGLE_FAMILY  349900\n",
      "2054503270  301 Edgewood St #8, Sarnia, ON N7S 4X7           Sarnia  CONDO          339000\n",
      "2054624438  215 Elgin St, Sarnia, ON N7T 5B3                 Sarnia  SINGLE_FAMILY  314000\n",
      "2054947065  217 Emma St, Sarnia, ON N7T 2Z8                  Sarnia  MULTI_FAMILY   289900\n",
      "2054950953  312 Confederation St, Sarnia, ON N7T 2A5         Sarnia  MULTI_FAMILY   289900\n",
      "2054595712  229 Queen St, Sarnia, ON N7T 2R7                 Sarnia  SINGLE_FAMILY  289000\n",
      "2066365101  846 Ross Ave #2, Sarnia, ON N7T 7P5              Sarnia  TOWNHOUSE      275000\n",
      "2056489865  227 Vidal St S, Sarnia, ON N7T 2T8               Sarnia  MULTI_FAMILY   269999\n",
      "2055248624  149 Euphemia St N, Sarnia, ON N7T 6A4            Sarnia  MULTI_FAMILY   249000\n",
      "2054758541  634 Cherry Dr, Sarnia, ON N7T 4H9                Sarnia  SINGLE_FAMILY  229999\n",
      "2058016643  333 Confederation St, Sarnia, ON N7T 2A4         Sarnia  SINGLE_FAMILY  204157\n",
      "2060729368  5700 Blackwell Side Rd #251, Sarnia, ON N7W 1B7  Sarnia  MANUFACTURED   158000\n"
     ]
    }
   ],
   "source": [
    "query = ''' SELECT ZillowListings.Id, ZillowListings.Address, ZillowListings.CityName,\n",
    "ZillowListings.ListingType, AVG(ZillowListingsAssociations.Price) AS Price \n",
    "FROM ZillowListingsAssociations INNER JOIN ZillowListings ON \n",
    "ZillowListingsAssociations.Id = ZillowListings.Id\n",
    "WHERE CityName = %s AND Price > %s AND Price < %s\n",
    "GROUP BY ZillowListings.Id'''\n",
    "query_values = (city, sd_minus_two, sd_plus_two)\n",
    "cursor.execute(query, query_values)\n",
    "sd_two_result_set = cursor.fetchall()\n",
    "\n",
    "header = ['Id', 'Address', 'City', 'Type', 'Price', 'Status']\n",
    "#Sort the Values by Price\n",
    "dict_getter = itemgetter(\"Price\")\n",
    "sd_two_result_set.sort(key=dict_getter, reverse=True)\n",
    "#Creating the table form to visualize the data\n",
    "sd_two_values = []\n",
    "sd_two_price_list = []\n",
    "for result in sd_two_result_set:\n",
    "    sd_two_values.append(list(result.values()))\n",
    "    sd_two_price_list.append(result.get('Price'))\n",
    "print(tabulate(sd_two_values, headers=header))"
   ]
  },
  {
   "cell_type": "code",
   "execution_count": 72,
   "id": "11edef18",
   "metadata": {},
   "outputs": [
    {
     "name": "stdout",
     "output_type": "stream",
     "text": [
      "Amount of data found in single standard deviation of the mean: 95.94594594594594%\n"
     ]
    }
   ],
   "source": [
    "sd_two_variance = len(sd_two_price_list)/len(price_list)\n",
    "print(f'Amount of data found in single standard deviation of the mean: {sd_two_variance*100}%')"
   ]
  },
  {
   "cell_type": "markdown",
   "id": "08be15f7",
   "metadata": {},
   "source": [
    "### Standardize The Data"
   ]
  },
  {
   "cell_type": "markdown",
   "id": "aa28deae",
   "metadata": {},
   "source": [
    "> To compute areas unedr the normal curve, we first standardize the data by subtracting off x (mean) and then dividing by s (standard deviation):\n",
    "> z = (data - x)/s"
   ]
  },
  {
   "cell_type": "markdown",
   "id": "d74b6bda",
   "metadata": {},
   "source": [
    "> Example: Find the z score of the data, for the Zillow listing with price CAD 200000"
   ]
  },
  {
   "cell_type": "code",
   "execution_count": 73,
   "id": "17f205a8",
   "metadata": {},
   "outputs": [
    {
     "name": "stdout",
     "output_type": "stream",
     "text": [
      "z score: -1.0811751795333742\n"
     ]
    }
   ],
   "source": [
    "z = (300000 - mean_price)/standard_deviation\n",
    "print(f'z score: {z}')"
   ]
  },
  {
   "cell_type": "markdown",
   "id": "1d3fc10a",
   "metadata": {},
   "source": [
    "### Normal Approximation"
   ]
  },
  {
   "cell_type": "markdown",
   "id": "254652b2",
   "metadata": {},
   "source": [
    "> Finding areas under the normal curve is called normal approximation.\n",
    "> \n",
    "> Example: Finding the listings between the price range of CAD 300000 and CAD 700000\n",
    "> + First we find the z score for the price CAD 300000\n",
    "> + Second we find the z score for the price CAD 700000\n",
    "> + Find the area between the two z scores"
   ]
  },
  {
   "cell_type": "code",
   "execution_count": 74,
   "id": "d7069721",
   "metadata": {},
   "outputs": [
    {
     "name": "stdout",
     "output_type": "stream",
     "text": [
      "z score for CAD 300000: -1.0811751795333742\n",
      "z score for CAD 700000: 0.34865756578124274\n",
      "z score area: 58.108108108108105%\n"
     ]
    }
   ],
   "source": [
    "z1 = (300000 - mean_price)/standard_deviation\n",
    "print(f'z score for CAD 300000: {z1}')\n",
    "z2 = (700000 - mean_price)/standard_deviation\n",
    "print(f'z score for CAD 700000: {z2}')\n",
    "\n",
    "query = ''' SELECT ZillowListings.Id, ZillowListings.Address, ZillowListings.CityName,\n",
    "ZillowListings.ListingType, AVG(ZillowListingsAssociations.Price) AS Price \n",
    "FROM ZillowListingsAssociations INNER JOIN ZillowListings ON \n",
    "ZillowListingsAssociations.Id = ZillowListings.Id\n",
    "WHERE CityName = %s AND Price > %s AND Price < %s\n",
    "GROUP BY ZillowListings.Id'''\n",
    "query_values = (city, 300000, 700000)\n",
    "cursor.execute(query, query_values)\n",
    "z_area_result_set = cursor.fetchall()\n",
    "\n",
    "#Sort the Values by Price\n",
    "dict_getter = itemgetter(\"Price\")\n",
    "z_area_result_set.sort(key=dict_getter, reverse=True)\n",
    "#Creating the table form to visualize the data\n",
    "z_area_values = []\n",
    "z_area_price_list = []\n",
    "for result in z_area_result_set:\n",
    "    z_area_values.append(list(result.values()))\n",
    "    z_area_price_list.append(result.get('Price'))\n",
    "#print(tabulate(z_area_values, headers=header))\n",
    "z_score_area = (len(z_area_price_list)/len(price_list))*100\n",
    "print(f'z score area: {z_score_area}%')"
   ]
  }
 ],
 "metadata": {
  "kernelspec": {
   "display_name": "Python 3 (ipykernel)",
   "language": "python",
   "name": "python3"
  },
  "language_info": {
   "codemirror_mode": {
    "name": "ipython",
    "version": 3
   },
   "file_extension": ".py",
   "mimetype": "text/x-python",
   "name": "python",
   "nbconvert_exporter": "python",
   "pygments_lexer": "ipython3",
   "version": "3.11.5"
  }
 },
 "nbformat": 4,
 "nbformat_minor": 5
}
