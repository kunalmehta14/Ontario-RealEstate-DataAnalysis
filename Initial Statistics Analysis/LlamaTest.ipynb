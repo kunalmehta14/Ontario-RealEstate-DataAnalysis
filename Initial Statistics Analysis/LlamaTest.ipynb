{
 "cells": [
  {
   "cell_type": "code",
   "execution_count": 1,
   "metadata": {},
   "outputs": [],
   "source": [
    "import mysql.connector as sql\n",
    "from urllib.parse import quote\n",
    "import os, warnings\n",
    "import pandas as pd\n",
    "import numpy as np\n",
    "from sqlalchemy import create_engine\n",
    "from dotenv import load_dotenv\n",
    "load_dotenv()\n",
    "warnings.simplefilter(action='ignore', category=FutureWarning)\n",
    "\n",
    "engine = create_engine(f\"mysql://{os.getenv('MYSQL_USER')}:%s@{os.getenv('MYSQL_HOST')}/DataAnalysis\" % quote(os.getenv('MYSQL_PASSWORD'))) "
   ]
  },
  {
   "cell_type": "code",
   "execution_count": 2,
   "metadata": {},
   "outputs": [
    {
     "name": "stderr",
     "output_type": "stream",
     "text": [
      "C:\\Users\\kyle\\AppData\\Roaming\\Python\\Python311\\site-packages\\llama_index\\utilities\\sql_wrapper.py:110: SAWarning: Did not recognize type 'point' of column 'ListingCoordinates'\n",
      "  self._metadata.reflect(\n",
      "C:\\Users\\kyle\\AppData\\Roaming\\Python\\Python311\\site-packages\\llama_index\\utilities\\sql_wrapper.py:110: SAWarning: Did not recognize type 'point' of column 'CollegeCoordinates'\n",
      "  self._metadata.reflect(\n",
      "C:\\Users\\kyle\\AppData\\Roaming\\Python\\Python311\\site-packages\\llama_index\\utilities\\sql_wrapper.py:110: SAWarning: Did not recognize type 'point' of column 'SchoolCoordinates'\n",
      "  self._metadata.reflect(\n",
      "C:\\Users\\kyle\\AppData\\Roaming\\Python\\Python311\\site-packages\\llama_index\\utilities\\sql_wrapper.py:110: SAWarning: Did not recognize type 'point' of column 'UniversityCoordinates'\n",
      "  self._metadata.reflect(\n",
      "C:\\Users\\kyle\\AppData\\Roaming\\Python\\Python311\\site-packages\\llama_index\\utilities\\sql_wrapper.py:110: SAWarning: Did not recognize type 'point' of column 'BusinessCoordinates'\n",
      "  self._metadata.reflect(\n"
     ]
    },
    {
     "data": {
      "text/plain": [
       "['AirbnbData',\n",
       " 'ZillowListingsSchools',\n",
       " 'CollegesData',\n",
       " 'SchoolData',\n",
       " 'RemaxListingsAssociations',\n",
       " 'MortgageData',\n",
       " 'CitiesData',\n",
       " 'AirbnbDataAssociations',\n",
       " 'UniversitiesData',\n",
       " 'RemaxListingsWalkscore',\n",
       " 'RemaxListingsAmeneties',\n",
       " 'YelpData',\n",
       " 'ZillowListingsAssociations',\n",
       " 'RemaxListingsSchools',\n",
       " 'RemaxListings',\n",
       " 'ZillowListingsAmeneties',\n",
       " 'ZillowListingsWalkscore',\n",
       " 'ZillowListings',\n",
       " 'RemaxListingsUniversities',\n",
       " 'ZillowListingsColleges',\n",
       " 'RemaxListingsColleges',\n",
       " 'RemaxListingsAirbnb',\n",
       " 'ZillowListingsAirbnb',\n",
       " 'ZillowListingsUniversities',\n",
       " 'YelpBusinessData']"
      ]
     },
     "execution_count": 2,
     "metadata": {},
     "output_type": "execute_result"
    }
   ],
   "source": [
    "from llama_index.indices.struct_store.sql_query import NLSQLTableQueryEngine\n",
    "from llama_index import SQLDatabase\n",
    "warnings.simplefilter(action='ignore', category=FutureWarning)\n",
    "sql_database = SQLDatabase(engine, sample_rows_in_table_info=2)\n",
    "list(sql_database._all_tables)"
   ]
  },
  {
   "cell_type": "code",
   "execution_count": 6,
   "metadata": {},
   "outputs": [
    {
     "name": "stderr",
     "output_type": "stream",
     "text": [
      "AVX = 1 | AVX2 = 1 | AVX512 = 0 | AVX512_VBMI = 0 | AVX512_VNNI = 0 | FMA = 1 | NEON = 0 | ARM_FMA = 0 | F16C = 1 | FP16_VA = 0 | WASM_SIMD = 0 | BLAS = 0 | SSE3 = 1 | SSSE3 = 0 | VSX = 0 | \n"
     ]
    }
   ],
   "source": [
    "from llama_index.callbacks import CallbackManager, LlamaDebugHandler\n",
    "from llama_index.llms import LlamaCPP\n",
    "from llama_index.llms.llama_utils import messages_to_prompt, completion_to_prompt\n",
    "from llama_index import ServiceContext\n",
    "\n",
    "MODEL_PATH = r\"D:\\Development Projects\\Llam-Interpreter\\llama-2-7b-chat.Q4_K_M.gguf\"\n",
    "llm = LlamaCPP(\n",
    "    model_path=MODEL_PATH,\n",
    "    temperature=0.1,\n",
    "    max_new_tokens=256,\n",
    "    context_window=3900,\n",
    "    generate_kwargs={},\n",
    "    model_kwargs={\"n_gpu_layers\": 20},  # set to at least 1 to use GPU\n",
    "    messages_to_prompt=messages_to_prompt,\n",
    "    completion_to_prompt=completion_to_prompt\n",
    ")\n",
    "\n",
    "llama_debug = LlamaDebugHandler(print_trace_on_end=True)\n",
    "callback_manager = CallbackManager([llama_debug])\n",
    "\n",
    "service_context = ServiceContext.from_defaults(\n",
    "  llm=llm, chunk_size=1024, embed_model=\"local\", callback_manager=callback_manager\n",
    ")"
   ]
  },
  {
   "cell_type": "code",
   "execution_count": 7,
   "metadata": {},
   "outputs": [],
   "source": [
    "from llama_index.indices.struct_store.sql_query import NLSQLTableQueryEngine\n",
    "\n",
    "query_engine = NLSQLTableQueryEngine(\n",
    "    sql_database=sql_database,\n",
    "    service_context=service_context\n",
    ")"
   ]
  },
  {
   "cell_type": "code",
   "execution_count": 8,
   "metadata": {},
   "outputs": [],
   "source": [
    "table_details = {\n",
    "    'CitiesData': 'Stores List of cities in Ontario, Canada and related data',\n",
    "    'RemaxListings': 'Stores Property listing data in Ontario, Canada from Remax.ca',\n",
    "    'RemaxListingsAssociations': 'Stores Property listings pricing data in timeseries form for all the real estate listings stored in RemaxListings table',\n",
    "    'AirbnbDataAssociations': 'Stores Airbnb pricing data in timeseries form for all the real estate listings stored in AirbnbData table', \n",
    "    'RemaxListingsColleges': 'Stores Number of colleges stored in CollegeData table, near all real estate listings collected from Remax.ca and stored in RemaxListings table',\n",
    "    'ZillowListingsAirbnb': 'Stores Number of Airbnbs, near all real estate listings collected from Zillow.ca and stored in ZillowListings table',\n",
    "    'RemaxListingsWalkscore': 'Stores Walkscore for all real estate listings collected from Remax.ca and stored in RemaxListings table',\n",
    "    'ZillowListings': 'Stores Property listing data in Ontario, Canada from Zillow.ca',\n",
    "    'ZillowListingsWalkscore': 'Stores Walkscore for all real estate listings in Ontario, Canada collected from Zillow.ca and stored in ZillowListings table',\n",
    "    'CollegesData': 'Stores List of colleges in Ontario, Canada',\n",
    "    'YelpData': 'Stores List of business in Ontario, Canada and information about them collected from Yelp',\n",
    "    'RemaxListingsAmeneties': 'Stores Number of amenties stored in YelpData table, near all real estate listings collected from Remax.ca and stored in RemaxListings table',\n",
    "    'ZillowListingsSchools': 'Stores Number of schools near all real estate listings collected from Zillow.ca and stored in ZillowListings table',\n",
    "    'RemaxListingsUniversities': 'Stores Number of universities near all real estate listings collected from Remax.ca and stored in RemaxListings table',\n",
    "    'UniversitiesData': 'Stores List of universities in Ontario, Canada',\n",
    "    'RemaxListingsSchools': 'Stores Number of schools near all real estate listings collected from Remax.ca and stored in RemaxListings table',\n",
    "    'ZillowListingsUniversities': 'Stores Number of universities near all real estate listings collected from Zillow.ca and stored in ZillowListings table',\n",
    "    'YelpBusinessData': 'Stores Meta data related to Yelp business data stored in YelpData table',\n",
    "    'RemaxListingsAirbnb': 'Stores Number of Airbnbs, near all real estate listings collected from Remax.ca and stored in RemaxListings table',\n",
    "    'ZillowListingsColleges': 'Stores Number of colleges stored in CollegeData table, near all real estate listings collected from Zillow.ca and stored in ZillowListings table',\n",
    "    'SchoolData': 'Stores List of schools in ontario, Canada',\n",
    "    'MortgageData': 'Stores House mortgage rates data from different lenders in timeseries form.',\n",
    "    'ZillowListingsAssociations': 'Stores Property listings pricing data in timeseries form for all the real estate listings stored in ZillowListings table',\n",
    "    'ZillowListingsAmeneties': 'Stores Number of amenties stored in YelpData table, near all real estate listings collected from Zillow.ca and stored in ZillowListings table',\n",
    "    'AirbnbData': 'Stores List of Airbnbs in Ontario, Canada'\n",
    "}"
   ]
  },
  {
   "cell_type": "code",
   "execution_count": 9,
   "metadata": {},
   "outputs": [],
   "source": [
    "from llama_index.objects import ObjectIndex\n",
    "from llama_index.objects import SQLTableNodeMapping, SQLTableSchema\n",
    "import pandas as pd\n",
    "\n",
    "tables = list(sql_database._all_tables)\n",
    "table_node_mapping = SQLTableNodeMapping(sql_database)\n",
    "table_schema_objs = []\n",
    "for table in tables:\n",
    "    table_schema_objs.append((SQLTableSchema(table_name = table, context_str = table_details[table])))"
   ]
  },
  {
   "cell_type": "code",
   "execution_count": 10,
   "metadata": {},
   "outputs": [
    {
     "data": {
      "text/plain": [
       "[SQLTableSchema(table_name='MortgageData', context_str='Stores House mortgage rates data from different lenders in timeseries form.'),\n",
       " SQLTableSchema(table_name='UniversitiesData', context_str='Stores List of universities in Ontario, Canada'),\n",
       " SQLTableSchema(table_name='ZillowListingsColleges', context_str='Stores Number of colleges stored in CollegeData table, near all real estate listings collected from Zillow.ca and stored in ZillowListings table'),\n",
       " SQLTableSchema(table_name='CitiesData', context_str='Stores List of cities in Ontario, Canada and related data'),\n",
       " SQLTableSchema(table_name='SchoolData', context_str='Stores List of schools in ontario, Canada'),\n",
       " SQLTableSchema(table_name='RemaxListingsUniversities', context_str='Stores Number of universities near all real estate listings collected from Remax.ca and stored in RemaxListings table'),\n",
       " SQLTableSchema(table_name='RemaxListingsSchools', context_str='Stores Number of schools near all real estate listings collected from Remax.ca and stored in RemaxListings table'),\n",
       " SQLTableSchema(table_name='AirbnbData', context_str='Stores List of Airbnbs in Ontario, Canada'),\n",
       " SQLTableSchema(table_name='AirbnbDataAssociations', context_str='Stores Airbnb pricing data in timeseries form for all the real estate listings stored in AirbnbData table'),\n",
       " SQLTableSchema(table_name='RemaxListingsAssociations', context_str='Stores Property listings pricing data in timeseries form for all the real estate listings stored in RemaxListings table'),\n",
       " SQLTableSchema(table_name='ZillowListingsAssociations', context_str='Stores Property listings pricing data in timeseries form for all the real estate listings stored in ZillowListings table'),\n",
       " SQLTableSchema(table_name='RemaxListingsColleges', context_str='Stores Number of colleges stored in CollegeData table, near all real estate listings collected from Remax.ca and stored in RemaxListings table'),\n",
       " SQLTableSchema(table_name='RemaxListings', context_str='Stores Property listing data in Ontario, Canada from Remax.ca'),\n",
       " SQLTableSchema(table_name='ZillowListingsAirbnb', context_str='Stores Number of Airbnbs, near all real estate listings collected from Zillow.ca and stored in ZillowListings table'),\n",
       " SQLTableSchema(table_name='ZillowListings', context_str='Stores Property listing data in Ontario, Canada from Zillow.ca'),\n",
       " SQLTableSchema(table_name='RemaxListingsAirbnb', context_str='Stores Number of Airbnbs, near all real estate listings collected from Remax.ca and stored in RemaxListings table'),\n",
       " SQLTableSchema(table_name='ZillowListingsAmeneties', context_str='Stores Number of amenties stored in YelpData table, near all real estate listings collected from Zillow.ca and stored in ZillowListings table'),\n",
       " SQLTableSchema(table_name='RemaxListingsWalkscore', context_str='Stores Walkscore for all real estate listings collected from Remax.ca and stored in RemaxListings table'),\n",
       " SQLTableSchema(table_name='CollegesData', context_str='Stores List of colleges in Ontario, Canada'),\n",
       " SQLTableSchema(table_name='RemaxListingsAmeneties', context_str='Stores Number of amenties stored in YelpData table, near all real estate listings collected from Remax.ca and stored in RemaxListings table'),\n",
       " SQLTableSchema(table_name='YelpData', context_str='Stores List of business in Ontario, Canada and information about them collected from Yelp'),\n",
       " SQLTableSchema(table_name='ZillowListingsWalkscore', context_str='Stores Walkscore for all real estate listings in Ontario, Canada collected from Zillow.ca and stored in ZillowListings table'),\n",
       " SQLTableSchema(table_name='ZillowListingsSchools', context_str='Stores Number of schools near all real estate listings collected from Zillow.ca and stored in ZillowListings table'),\n",
       " SQLTableSchema(table_name='ZillowListingsUniversities', context_str='Stores Number of universities near all real estate listings collected from Zillow.ca and stored in ZillowListings table'),\n",
       " SQLTableSchema(table_name='YelpBusinessData', context_str='Stores Meta data related to Yelp business data stored in YelpData table')]"
      ]
     },
     "execution_count": 10,
     "metadata": {},
     "output_type": "execute_result"
    }
   ],
   "source": [
    "table_schema_objs"
   ]
  },
  {
   "cell_type": "code",
   "execution_count": 11,
   "metadata": {},
   "outputs": [
    {
     "name": "stderr",
     "output_type": "stream",
     "text": [
      "C:\\Users\\kyle\\AppData\\Roaming\\Python\\Python311\\site-packages\\llama_index\\utilities\\sql_wrapper.py:158: SAWarning: Did not recognize type 'point' of column 'UniversityCoordinates'\n",
      "  for column in self._inspector.get_columns(table_name):\n",
      "C:\\Users\\kyle\\AppData\\Roaming\\Python\\Python311\\site-packages\\llama_index\\utilities\\sql_wrapper.py:158: SAWarning: Did not recognize type 'point' of column 'SchoolCoordinates'\n",
      "  for column in self._inspector.get_columns(table_name):\n",
      "C:\\Users\\kyle\\AppData\\Roaming\\Python\\Python311\\site-packages\\llama_index\\utilities\\sql_wrapper.py:158: SAWarning: Did not recognize type 'point' of column 'ListingCoordinates'\n",
      "  for column in self._inspector.get_columns(table_name):\n",
      "C:\\Users\\kyle\\AppData\\Roaming\\Python\\Python311\\site-packages\\llama_index\\utilities\\sql_wrapper.py:158: SAWarning: Did not recognize type 'point' of column 'CollegeCoordinates'\n",
      "  for column in self._inspector.get_columns(table_name):\n",
      "C:\\Users\\kyle\\AppData\\Roaming\\Python\\Python311\\site-packages\\llama_index\\utilities\\sql_wrapper.py:158: SAWarning: Did not recognize type 'point' of column 'BusinessCoordinates'\n",
      "  for column in self._inspector.get_columns(table_name):\n"
     ]
    },
    {
     "name": "stdout",
     "output_type": "stream",
     "text": [
      "**********\n",
      "Trace: index_construction\n",
      "    |_CBEventType.EMBEDDING ->  0.582854 seconds\n",
      "    |_CBEventType.EMBEDDING ->  0.501073 seconds\n",
      "    |_CBEventType.EMBEDDING ->  0.199294 seconds\n",
      "**********\n"
     ]
    }
   ],
   "source": [
    "from llama_index.indices.struct_store import SQLTableRetrieverQueryEngine\n",
    "from llama_index import VectorStoreIndex\n",
    "\n",
    "\n",
    "obj_index = ObjectIndex.from_objects(\n",
    "    table_schema_objs,\n",
    "    table_node_mapping,\n",
    "    VectorStoreIndex,\n",
    "    service_context=service_context\n",
    ")"
   ]
  },
  {
   "cell_type": "code",
   "execution_count": 12,
   "metadata": {},
   "outputs": [],
   "source": [
    "query_engine = SQLTableRetrieverQueryEngine(\n",
    "    sql_database, obj_index.as_retriever(similarity_top_k=3), service_context=service_context\n",
    ")"
   ]
  },
  {
   "cell_type": "code",
   "execution_count": 13,
   "metadata": {},
   "outputs": [],
   "source": [
    "response = query_engine.query('Can you show me condo real estate listings in London, Ontario?')\n",
    "print(response.response)"
   ]
  }
 ],
 "metadata": {
  "kernelspec": {
   "display_name": "base",
   "language": "python",
   "name": "python3"
  },
  "language_info": {
   "codemirror_mode": {
    "name": "ipython",
    "version": 3
   },
   "file_extension": ".py",
   "mimetype": "text/x-python",
   "name": "python",
   "nbconvert_exporter": "python",
   "pygments_lexer": "ipython3",
   "version": "3.11.5"
  }
 },
 "nbformat": 4,
 "nbformat_minor": 2
}
